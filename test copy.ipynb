{
 "cells": [
  {
   "cell_type": "code",
   "execution_count": 2,
   "id": "8b35e7ba",
   "metadata": {},
   "outputs": [
    {
     "name": "stdout",
     "output_type": "stream",
     "text": [
      "----------------- Options ---------------\n",
      "               batch_size: 1                             \n",
      "                    beta1: 0.5                           \n",
      "          checkpoints_dir: ./checkpoints                 \n",
      "           continue_train: False                         \n",
      "                    epoch: latest                        \n",
      "              epoch_count: 1                             \n",
      "                 gan_mode: vanilla                       \n",
      "                  gpu_ids: 0                             \n",
      "                init_gain: 0.02                          \n",
      "                init_type: normal                        \n",
      "                 input_nc: 1                             \n",
      "                  isTrain: True                          \t[default: None]\n",
      "                lambda_L1: 1                             \n",
      "                     load: ./img_data                    \n",
      "                load_iter: 0                             \t[default: 0]\n",
      "                       lr: 0.0002                        \n",
      "           lr_decay_iters: 50                            \n",
      "                lr_policy: linear                        \n",
      "                    model: pix2pix                       \n",
      "                 n_epochs: 1                             \n",
      "               n_layers_D: 3                             \n",
      "                     name: unet_b002                     \n",
      "                      ndf: 64                            \n",
      "                     netD: basic                         \n",
      "                     netG: unet_128                      \n",
      "                      ngf: 64                            \n",
      "                    niter: 1                             \n",
      "              niter_decay: 1                             \n",
      "               no_dropout: False                         \n",
      "                     norm: instance                      \n",
      "                output_nc: 1                             \n",
      "                    phase: train                         \n",
      "                pool_size: 0                             \n",
      "               print_freq: 20                            \n",
      "             save_by_iter: False                         \n",
      "          save_epoch_freq: 1                             \n",
      "         save_latest_freq: 5000                          \n",
      "                    scale: 0.5                           \n",
      "                   suffix:                               \n",
      "                  use_sab: False                         \n",
      "               validation: 10.0                          \n",
      "                  verbose: False                         \n",
      "----------------- End -------------------\n",
      "加载 train 数据集...\n",
      "   加载扫描参数: ./datasets/simulation/resolution_distorsion/resolution_distorsion_simu_scan.hdf5\n",
      "   加载数据文件: ./datasets/simulation/resolution_distorsion/resolution_distorsion_simu_dataset_iq.hdf5\n",
      "   IQ数据形状: (75, 128, 382)\n",
      "   发射角度数: 75\n",
      "   中心频率: 5.21 MHz\n",
      "   采样频率: 5.21 MHz\n",
      "   声速: 1540.0 m/s\n",
      "   时间零点扩展到所有角度\n",
      "   验证数据完整性...\n",
      "   ✅ PICMUS数据加载完成并验证通过\n",
      "/home/liujia/anaconda3/envs/augan38/lib/python3.8/site-packages/torch/nn/functional.py:4373: UserWarning: Default grid_sample and affine_grid behavior has changed to align_corners=False since 1.3.0. Please specify align_corners=True if the old behavior is desired. See the documentation of grid_sample for details.\n",
      "  warnings.warn(\n",
      "生成了 15 对图像\n",
      "创建train数据集: 15个样本\n",
      "数据集大小: 15\n"
     ]
    }
   ],
   "source": [
    "! python -c \"from data_process import load_dataset; from options.train_options import TrainOptions; opt = TrainOptions().parse(); dataset = load_dataset(opt, 'train', 0); print(f'数据集大小: {len(dataset)}')\""
   ]
  }
 ],
 "metadata": {
  "kernelspec": {
   "display_name": "augan38",
   "language": "python",
   "name": "python3"
  },
  "language_info": {
   "codemirror_mode": {
    "name": "ipython",
    "version": 3
   },
   "file_extension": ".py",
   "mimetype": "text/x-python",
   "name": "python",
   "nbconvert_exporter": "python",
   "pygments_lexer": "ipython3",
   "version": "3.8.20"
  }
 },
 "nbformat": 4,
 "nbformat_minor": 5
}
